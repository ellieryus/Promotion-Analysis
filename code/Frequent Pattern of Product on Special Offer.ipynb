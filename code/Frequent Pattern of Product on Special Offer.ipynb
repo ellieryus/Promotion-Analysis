{
 "cells": [
  {
   "cell_type": "code",
   "execution_count": null,
   "metadata": {},
   "outputs": [],
   "source": [
    "import pandas as pd\n",
    "import numpy as np\n",
    "from datetime import datetime\n",
    "import matplotlib.pyplot as plt\n",
    "\n",
    "DATA_PATH = '/Users/ellieryus/Downloads/Year4-1/Current Topic/data/'\n",
    "\n",
    "file_name = DATA_PATH + 'FactSales.csv'\n",
    "FactSales_df = pd.read_csv(file_name)\n",
    "FactSales_df"
   ]
  },
  {
   "cell_type": "code",
   "execution_count": null,
   "metadata": {},
   "outputs": [],
   "source": [
    "file_name2 = DATA_PATH + 'DimProduct.csv'\n",
    "DimProduct_df = pd.read_csv(file_name2)\n",
    "DimProduct_df"
   ]
  },
  {
   "cell_type": "code",
   "execution_count": null,
   "metadata": {},
   "outputs": [],
   "source": [
    "FactSales_Product_df = FactSales_df.merge(DimProduct_df)\n",
    "FactSales_Product_df"
   ]
  },
  {
   "cell_type": "code",
   "execution_count": null,
   "metadata": {},
   "outputs": [],
   "source": [
    "FactSales_Product_filter = FactSales_Product_df[FactSales_Product_df['SpecialOfferID'] != 1]\n",
    "FactSales_Product_filter"
   ]
  },
  {
   "cell_type": "code",
   "execution_count": null,
   "metadata": {},
   "outputs": [],
   "source": [
    "table = FactSales_Product_filter.groupby(['SalesOrderID', 'SpecialOfferID']).agg({'Name': list})\n",
    "table.head(100)"
   ]
  },
  {
   "cell_type": "code",
   "execution_count": null,
   "metadata": {},
   "outputs": [],
   "source": [
    "table2 = table.groupby(['SpecialOfferID']).agg(list)\n",
    "table2"
   ]
  },
  {
   "cell_type": "code",
   "execution_count": null,
   "metadata": {},
   "outputs": [],
   "source": [
    "from mlxtend.preprocessing import TransactionEncoder\n",
    "from mlxtend.frequent_patterns import apriori, association_rules\n",
    "\n",
    "table_Territory = table2.iloc[0]['ProductID']\n",
    "print(table_Territory)\n",
    "te = TransactionEncoder()\n",
    "\n",
    "te_ary = te.fit(table_Territory).transform(table_Territory)\n",
    "print(te_ary)\n",
    "\n",
    "df = pd.DataFrame(te_ary, columns=te.columns_)\n",
    "print(df)\n",
    "frequent_itemsets = apriori(df, min_support=0.01, use_colnames=True)\n",
    "\n",
    "frequent_itemsets['length'] = frequent_itemsets['itemsets'].apply(lambda x: len(x))\n",
    "\n",
    "frequent_itemsets = frequent_itemsets[ (frequent_itemsets['length'] >= 1) ]\n",
    "\n",
    "result_df_sorted = frequent_itemsets.sort_values(by='support', ascending=False)\n",
    "result_df_sorted.to_csv('test1.csv', index=False)\n",
    "\n",
    "#generate association rule\n",
    "rules = association_rules(frequent_itemsets, metric=\"lift\", min_threshold=1)\n",
    "result = rules.sort_values(by=['support', 'confidence', 'lift'], ascending=[False, False, False])\n",
    "result.to_csv('test2.csv', index=False)"
   ]
  },
  {
   "cell_type": "code",
   "execution_count": null,
   "metadata": {},
   "outputs": [],
   "source": [
    "from mlxtend.preprocessing import TransactionEncoder\n",
    "from mlxtend.frequent_patterns import apriori, association_rules\n",
    "\n",
    "for i in range(len(table2)):\n",
    "    table_Territory = table2.iloc[i]['Name']\n",
    "    te = TransactionEncoder()\n",
    "\n",
    "    te_ary = te.fit(table_Territory).transform(table_Territory)\n",
    "    df = pd.DataFrame(te_ary, columns=te.columns_)\n",
    "    \n",
    "    frequent_itemsets = apriori(df, min_support=0.1, use_colnames=True)\n",
    "    \n",
    "    frequent_itemsets['length'] = frequent_itemsets['itemsets'].apply(lambda x: len(x))\n",
    "\n",
    "    frequent_itemsets = frequent_itemsets[ (frequent_itemsets['length'] >= 1) ]\n",
    "    \n",
    "    #generate association rule\n",
    "    rules = association_rules(frequent_itemsets, metric=\"lift\", min_threshold=1)\n",
    "    result = rules.sort_values(by=['support', 'confidence', 'lift'], ascending=[False, False, False])\n",
    "    result.to_csv('./csvfile/frequentpatternofproduct1/AssociationRules'+str(table2.index[i])+'.csv', index=False)\n",
    "   "
   ]
  },
  {
   "cell_type": "code",
   "execution_count": null,
   "metadata": {},
   "outputs": [],
   "source": [
    "# from mlxtend.preprocessing import TransactionEncoder\n",
    "# from mlxtend.frequent_patterns import apriori, association_rules\n",
    "# import pandas as pd\n",
    "\n",
    "# for i in range(len(table2)):\n",
    "#     table_Territory = table2.iloc[i]['Name']\n",
    "    \n",
    "#     # Use TransactionEncoder to convert data to a binary format\n",
    "#     te = TransactionEncoder()\n",
    "#     te_ary = te.fit(table_Territory).transform(table_Territory)\n",
    "#     df = pd.DataFrame(te_ary, columns=te.columns_)\n",
    "    \n",
    "#     # Apply Apriori algorithm\n",
    "#     frequent_itemsets = apriori(df, min_support=0.01, use_colnames=True)\n",
    "    \n",
    "#     # Filter based on length after association rule generation\n",
    "#     frequent_itemsets['length'] = frequent_itemsets['itemsets'].apply(lambda x: len(x))\n",
    "#     frequent_itemsets = frequent_itemsets[ (frequent_itemsets['length'] >= 2) ]\n",
    "\n",
    "\n",
    "#     # Save frequent itemsets to a CSV file\n",
    "#     frequent_itemsets.to_csv('./csvfile/frequentpatternofproduct2/FrequentPatternOfProductLength>=2onSpecialOffer'+str(table2.index[i])+'.csv', index=False)\n",
    "    \n",
    "#     # Generate association rules\n",
    "#     rules = association_rules(frequent_itemsets, metric=\"lift\", min_threshold=0.5)\n",
    "    \n",
    "#     # Filter association rules based on confidence\n",
    "#     result = rules[rules['confidence'] >= 0.5].sort_values(by='confidence', ascending=False)\n",
    "    \n",
    "#     # Save association rules to a CSV file\n",
    "#     result.to_csv('./csvfile/frequentpatternofproduct2/AssociationRules'+str(table2.index[i])+'.csv', index=False)\n"
   ]
  },
  {
   "cell_type": "code",
   "execution_count": null,
   "metadata": {},
   "outputs": [],
   "source": []
  }
 ],
 "metadata": {
  "kernelspec": {
   "display_name": "base",
   "language": "python",
   "name": "python3"
  },
  "language_info": {
   "codemirror_mode": {
    "name": "ipython",
    "version": 3
   },
   "file_extension": ".py",
   "mimetype": "text/x-python",
   "name": "python",
   "nbconvert_exporter": "python",
   "pygments_lexer": "ipython3",
   "version": "3.11.5"
  }
 },
 "nbformat": 4,
 "nbformat_minor": 2
}
