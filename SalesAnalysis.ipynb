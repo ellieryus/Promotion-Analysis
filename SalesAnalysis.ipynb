{
 "cells": [
  {
   "cell_type": "code",
   "execution_count": null,
   "id": "3ff6ce97-379b-456c-b007-5fe70ca52f6e",
   "metadata": {},
   "outputs": [],
   "source": [
    "import pandas as pd \n",
    "\n",
    "sales = pd.read_csv(\"E:\\current-topics\\dataset\\FactSales_new.csv\")\n",
    "date = pd.read_csv(\"E:\\current-topics\\dataset\\DimDate_new.csv\")\n",
    "\n",
    "df = sales.merge(date, on='DateID')\n",
    "df"
   ]
  },
  {
   "cell_type": "code",
   "execution_count": null,
   "id": "37feaed0-95f3-49be-99ec-9c32a1fd0c01",
   "metadata": {},
   "outputs": [],
   "source": [
    "# Offer 1 is no offer. Offer ID 17, 18 added just to check the pipeline\n",
    "\n",
    "df = df[(df['SpecialOfferID'] != 1)&(df['SpecialOfferID'] != 17)&(df['SpecialOfferID'] != 18)]\n",
    "df"
   ]
  },
  {
   "cell_type": "code",
   "execution_count": null,
   "id": "830a2cb3-42d7-45eb-8863-6f112a6659fa",
   "metadata": {},
   "outputs": [],
   "source": [
    "df = df.groupby(['SpecialOfferID', 'ProductID', 'Year', 'TerritoryID']).sum()\n",
    "df"
   ]
  },
  {
   "cell_type": "code",
   "execution_count": null,
   "id": "91607ebf-9c14-439e-8a51-eabc5edd6df9",
   "metadata": {},
   "outputs": [],
   "source": [
    "df = df.reset_index()\n",
    "df"
   ]
  },
  {
   "cell_type": "code",
   "execution_count": null,
   "id": "349203bf-041c-470a-9f89-c156ddd9eb55",
   "metadata": {},
   "outputs": [],
   "source": [
    "new_df = df[['SpecialOfferID','ProductID','Year','TerritoryID','OrderQty','LineTotal']]\n",
    "new_df"
   ]
  },
  {
   "cell_type": "code",
   "execution_count": null,
   "id": "314c3c19-9ee6-4c75-b830-57a0c0bb5cdf",
   "metadata": {},
   "outputs": [],
   "source": [
    "# check if correct \n",
    "new_df[(new_df['SpecialOfferID']==2) & (df['ProductID']==707) & (df['TerritoryID']==1)]"
   ]
  },
  {
   "cell_type": "code",
   "execution_count": null,
   "id": "12070fd8-7a40-45f8-b2ef-cbfaf0a036a3",
   "metadata": {},
   "outputs": [],
   "source": [
    "new_df.to_csv(\"E:\\current-topics\\dataset\\OfferProductYearTerritory.csv\")"
   ]
  }
 ],
 "metadata": {
  "kernelspec": {
   "display_name": "Python 3 (ipykernel)",
   "language": "python",
   "name": "python3"
  },
  "language_info": {
   "codemirror_mode": {
    "name": "ipython",
    "version": 3
   },
   "file_extension": ".py",
   "mimetype": "text/x-python",
   "name": "python",
   "nbconvert_exporter": "python",
   "pygments_lexer": "ipython3",
   "version": "3.11.4"
  }
 },
 "nbformat": 4,
 "nbformat_minor": 5
}
